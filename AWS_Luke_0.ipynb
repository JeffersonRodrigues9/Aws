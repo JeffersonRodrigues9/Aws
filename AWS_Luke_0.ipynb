{
  "nbformat": 4,
  "nbformat_minor": 0,
  "metadata": {
    "colab": {
      "provenance": [],
      "authorship_tag": "ABX9TyMOj7KYlHCcMEof9VGbnlGD",
      "include_colab_link": true
    },
    "kernelspec": {
      "name": "python3",
      "display_name": "Python 3"
    },
    "language_info": {
      "name": "python"
    }
  },
  "cells": [
    {
      "cell_type": "markdown",
      "metadata": {
        "id": "view-in-github",
        "colab_type": "text"
      },
      "source": [
        "<a href=\"https://colab.research.google.com/github/JeffersonRodrigues9/Aws/blob/main/AWS_Luke_0.ipynb\" target=\"_parent\"><img src=\"https://colab.research.google.com/assets/colab-badge.svg\" alt=\"Open In Colab\"/></a>"
      ]
    },
    {
      "cell_type": "code",
      "source": [
        "regions:\n",
        "- eu-west-1\n",
        "\n",
        "account-blocklist:\n",
        "- \"999999999999\" # production\n",
        "\n",
        "accounts:\n",
        "  \"000000000000\": # aws-nuke-example\n",
        "    filters:\n",
        "      IAMUser:\n",
        "      - \"my-user\"\n",
        "      IAMUserPolicyAttachment:\n",
        "      - \"my-user -> AdministratorAccess\"\n",
        "      IAMUserAccessKey:\n",
        "      - \"my-user -> ABCDEFGHIJKLMNOPQRST\""
      ],
      "metadata": {
        "id": "N_wmq5KD3qmT"
      },
      "execution_count": null,
      "outputs": []
    }
  ]
}